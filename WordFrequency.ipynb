{
 "cells": [
  {
   "cell_type": "code",
   "execution_count": 2,
   "metadata": {
    "collapsed": true
   },
   "outputs": [],
   "source": [
    "import string\n",
    "\n",
    "def get_word_list(file_name):\n",
    "    f = open(file_name,'r')\n",
    "    lines = f.readlines()\n",
    "    curr_line = 0\n",
    "    while lines[curr_line].find('The Project Gutenberg EBook of The Adventures of Tom Sawyer') == -1:\n",
    "        curr_line += 1\n",
    "    lines = lines[curr_line+1:]\n",
    "    \n",
    "    curr_line = len(lines)-1\n",
    "    while lines[curr_line].find('End of the Project Gutenberg Ebook of Adventures of Tom Sawyer') == -1:\n",
    "        curr_line -= 1\n",
    "    lines = lines[:curr_line]\n",
    "    \n",
    "    hist = []\n",
    "    \n",
    "    for line in lines:\n",
    "    \n",
    "        line = line.replace('-', ' ')\n",
    "\n",
    "        for word in line.split():\n",
    "            word = word.strip(string.punctuation + string.whitespace)\n",
    "            word = word.lower()\n",
    "            \n",
    "            hist.append(word)\n",
    "    \n",
    "    return hist"
   ]
  },
  {
   "cell_type": "code",
   "execution_count": 3,
   "metadata": {
    "collapsed": true
   },
   "outputs": [],
   "source": [
    "textlist = get_word_list(\"TomSawyer.txt\")"
   ]
  },
  {
   "cell_type": "markdown",
   "metadata": {},
   "source": [
    "# print textlist"
   ]
  },
  {
   "cell_type": "code",
   "execution_count": 4,
   "metadata": {
    "collapsed": true
   },
   "outputs": [],
   "source": [
    "def get_top_n_words(word_list, n):\n",
    "    hist = {}\n",
    "    \n",
    "    for word in word_list:\n",
    "        hist[word] = hist.get(word, 0) + 1\n",
    "        \n",
    "    histlistsort = []\n",
    "    \n",
    "    for key, value in hist.items():\n",
    "        histlistsort.append((value, key))\n",
    "        \n",
    "    histlistsort.sort()\n",
    "    histlistsort.reverse()\n",
    "    \n",
    "    \n",
    "        \n",
    "    return histlistsort[0:n]"
   ]
  },
  {
   "cell_type": "code",
   "execution_count": 5,
   "metadata": {
    "collapsed": false
   },
   "outputs": [
    {
     "data": {
      "text/plain": [
       "[(3698, 'the'),\n",
       " (3084, 'and'),\n",
       " (1841, 'a'),\n",
       " (1714, 'to'),\n",
       " (1442, 'of'),\n",
       " (1191, 'he'),\n",
       " (1163, 'was'),\n",
       " (1052, 'it'),\n",
       " (932, 'in'),\n",
       " (875, 'that'),\n",
       " (815, 'his'),\n",
       " (702, 'you'),\n",
       " (662, 'i'),\n",
       " (645, 'with'),\n",
       " (597, 'tom'),\n",
       " (566, 'but'),\n",
       " (552, 'they'),\n",
       " (512, 'had'),\n",
       " (512, 'for'),\n",
       " (414, 'him'),\n",
       " (392, 'as'),\n",
       " (374, 'she'),\n",
       " (369, 'on'),\n",
       " (360, 'at'),\n",
       " (356, 'said'),\n",
       " (338, 'so'),\n",
       " (304, 'all'),\n",
       " (297, 'then'),\n",
       " (290, 'be'),\n",
       " (288, 'there'),\n",
       " (287, 'up'),\n",
       " (284, 'this'),\n",
       " (282, 'not'),\n",
       " (281, 'her'),\n",
       " (275, 'were'),\n",
       " (266, 'out'),\n",
       " (265, 'by'),\n",
       " (235, 'would'),\n",
       " (232, 'if'),\n",
       " (231, 'now'),\n",
       " (216, 'no'),\n",
       " (213, 'don\\xef\\xbf\\xbdt'),\n",
       " (208, 'when'),\n",
       " (192, 'their'),\n",
       " (191, 'me'),\n",
       " (183, 'huck'),\n",
       " (181, 'time'),\n",
       " (181, 'one'),\n",
       " (178, 'from'),\n",
       " (176, 'could'),\n",
       " (175, 'an'),\n",
       " (172, 'got'),\n",
       " (168, 'do'),\n",
       " (165, 'about'),\n",
       " (163, 'is'),\n",
       " (161, 'what'),\n",
       " (161, 'them'),\n",
       " (161, 'down'),\n",
       " (159, 'have'),\n",
       " (150, 'been'),\n",
       " (147, 'upon'),\n",
       " (147, 'or'),\n",
       " (144, 'boys'),\n",
       " (142, 'just'),\n",
       " (141, 'little'),\n",
       " (140, 'did'),\n",
       " (139, 'into'),\n",
       " (134, 'over'),\n",
       " (133, 'go'),\n",
       " (131, 'it\\xef\\xbf\\xbds'),\n",
       " (130, 'see'),\n",
       " (130, 'more'),\n",
       " (127, 'never'),\n",
       " (127, 'away'),\n",
       " (124, 'joe'),\n",
       " (123, 'like'),\n",
       " (121, 'again'),\n",
       " (120, 'know'),\n",
       " (119, 'ain\\xef\\xbf\\xbdt'),\n",
       " (118, 'came'),\n",
       " (118, 'back'),\n",
       " (117, 'come'),\n",
       " (115, 'some'),\n",
       " (115, 'boy'),\n",
       " (114, '\\xef\\xbf\\xbdi'),\n",
       " (113, 'went'),\n",
       " (113, 'two'),\n",
       " (113, 'any'),\n",
       " (110, 'get'),\n",
       " (110, 'began'),\n",
       " (106, 'we'),\n",
       " (103, 'himself'),\n",
       " (102, 'only'),\n",
       " (100, 'too'),\n",
       " (99, 'ever'),\n",
       " (98, 'way'),\n",
       " (96, 'old'),\n",
       " (96, 'my'),\n",
       " (96, 'good'),\n",
       " (95, 'other')]"
      ]
     },
     "execution_count": 5,
     "metadata": {},
     "output_type": "execute_result"
    }
   ],
   "source": [
    "get_top_n_words(textlist, 100)"
   ]
  },
  {
   "cell_type": "code",
   "execution_count": null,
   "metadata": {
    "collapsed": true
   },
   "outputs": [],
   "source": []
  }
 ],
 "metadata": {
  "kernelspec": {
   "display_name": "Python 2",
   "language": "python",
   "name": "python2"
  },
  "language_info": {
   "codemirror_mode": {
    "name": "ipython",
    "version": 2
   },
   "file_extension": ".py",
   "mimetype": "text/x-python",
   "name": "python",
   "nbconvert_exporter": "python",
   "pygments_lexer": "ipython2",
   "version": "2.7.12"
  }
 },
 "nbformat": 4,
 "nbformat_minor": 1
}
